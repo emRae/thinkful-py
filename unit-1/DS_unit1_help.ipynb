{
 "cells": [
  {
   "cell_type": "code",
   "execution_count": 4,
   "metadata": {
    "collapsed": true
   },
   "outputs": [],
   "source": [
    "import sqlite3 as lite\n",
    "import pandas as pd"
   ]
  },
  {
   "cell_type": "code",
   "execution_count": 6,
   "metadata": {
    "collapsed": true
   },
   "outputs": [],
   "source": [
    "cities = (('New York City', 'NY'),\n",
    "('Boston', 'MA'),\n",
    "('Chicago', 'IL'),\n",
    "('Miami', 'FL'),\n",
    "('Dallas', 'TX'),\n",
    "('Seattle', 'WA'),\n",
    "('Portland', 'OR'),\n",
    "('San Francisco', 'CA'),\n",
    "('Los Angeles', 'CA'),\n",
    "('Las Vegas', 'NV'),\n",
    "('Atlanta', 'GA'))"
   ]
  },
  {
   "cell_type": "code",
   "execution_count": 7,
   "metadata": {
    "collapsed": true
   },
   "outputs": [],
   "source": [
    "weather = (('New York City', 2013, 'July', 'January', 62),\n",
    "('Boston', 2013, 'July', 'January', 59),\n",
    "('Chicago', 2013, 'July', 'January', 59),\n",
    "('Miami', 2013, 'August', 'January', 84),\n",
    "('Dallas', 2013, 'July', 'January', 77),\n",
    "('Seattle', 2013, 'July', 'January', 61),\n",
    "('Portland', 2013, 'July', 'December', 63),\n",
    "('San Francisco', 2013, 'September', 'December', 64),\n",
    "('Los Angeles', 2013, 'September', 'December', 75),\n",
    "('Las Vegas', 2013, 'July', 'December', '99'),\n",
    "('Atlanta', 2013, 'July', 'January', '99'))"
   ]
  },
  {
   "cell_type": "code",
   "execution_count": 13,
   "metadata": {
    "collapsed": false
   },
   "outputs": [],
   "source": [
    "# Connect to the database\n",
    "con = lite.connect('getting_started.db')\n",
    "\n",
    "with con:\n",
    "\n",
    "    cur = con.cursor()\n",
    "    # Create the cities and weather tables (HINT: first pass the statement DROP TABLE IF EXISTS <table_name>; to remove the table before // you execute the CREATE TABLE ... statement)\n",
    "    cur.execute(\"DROP TABLE IF EXISTS cities\")\n",
    "    cur.execute(\"DROP TABLE IF EXISTS weather\")\n",
    "\n",
    "    # Insert data into the two tables\n",
    "\n",
    "    cur.execute(\"CREATE TABLE cities (name text, state text)\")\n",
    "    # cur.execute('.seperator \",\"')\n",
    "    # cur.execute('.import databases/cities.csv cities')\n",
    "    cur.execute(\"CREATE TABLE weather (city text, year integer, warm_month text, cold_month text, average_high integer)\")\n",
    "    # cur.execute('.seperator \",\"')\n",
    "    # cur.execute('.import databases/weather.csv weather')\n",
    "\n",
    "\n",
    "    cur.executemany(\"INSERT INTO cities VALUES(?,?)\", cities)\n",
    "    cur.executemany(\"INSERT INTO weather VALUES(?,?,?,?,?)\", weather)"
   ]
  },
  {
   "cell_type": "code",
   "execution_count": 14,
   "metadata": {
    "collapsed": true
   },
   "outputs": [],
   "source": [
    "cur.execute('SELECT name, state FROM cities INNER JOIN weather ON name = city WHERE warm_month = \"July\"')\n",
    "\n",
    "# Load into a pandas DataFrame\n",
    "rows = cur.fetchall()\n",
    "cols = [desc[0] for desc in cur.description]\n",
    "df = pd.DataFrame(rows, columns=cols)"
   ]
  },
  {
   "cell_type": "code",
   "execution_count": 15,
   "metadata": {
    "collapsed": false
   },
   "outputs": [
    {
     "data": {
      "text/html": [
       "<div>\n",
       "<table border=\"1\" class=\"dataframe\">\n",
       "  <thead>\n",
       "    <tr style=\"text-align: right;\">\n",
       "      <th></th>\n",
       "      <th>name</th>\n",
       "      <th>state</th>\n",
       "    </tr>\n",
       "  </thead>\n",
       "  <tbody>\n",
       "    <tr>\n",
       "      <th>0</th>\n",
       "      <td>New York City</td>\n",
       "      <td>NY</td>\n",
       "    </tr>\n",
       "    <tr>\n",
       "      <th>1</th>\n",
       "      <td>Boston</td>\n",
       "      <td>MA</td>\n",
       "    </tr>\n",
       "    <tr>\n",
       "      <th>2</th>\n",
       "      <td>Chicago</td>\n",
       "      <td>IL</td>\n",
       "    </tr>\n",
       "    <tr>\n",
       "      <th>3</th>\n",
       "      <td>Dallas</td>\n",
       "      <td>TX</td>\n",
       "    </tr>\n",
       "    <tr>\n",
       "      <th>4</th>\n",
       "      <td>Seattle</td>\n",
       "      <td>WA</td>\n",
       "    </tr>\n",
       "  </tbody>\n",
       "</table>\n",
       "</div>"
      ],
      "text/plain": [
       "            name state\n",
       "0  New York City    NY\n",
       "1         Boston    MA\n",
       "2        Chicago    IL\n",
       "3         Dallas    TX\n",
       "4        Seattle    WA"
      ]
     },
     "execution_count": 15,
     "metadata": {},
     "output_type": "execute_result"
    }
   ],
   "source": [
    "df.head()"
   ]
  },
  {
   "cell_type": "code",
   "execution_count": 34,
   "metadata": {
    "collapsed": false
   },
   "outputs": [
    {
     "name": "stdout",
     "output_type": "stream",
     "text": [
      "These cities are warm in July:\n",
      "New York City, NY\n",
      "Boston, MA\n",
      "Chicago, IL\n",
      "Dallas, TX\n",
      "Seattle, WA\n",
      "Portland, OR\n",
      "Las Vegas, NV\n",
      "Atlanta, GA\n"
     ]
    }
   ],
   "source": [
    "print \"These cities are warm in July:\"\n",
    "for row in df.iterrows():\n",
    "    print row[1]['name'] + ', ' + row[1]['state']"
   ]
  },
  {
   "cell_type": "code",
   "execution_count": 40,
   "metadata": {
    "collapsed": false
   },
   "outputs": [
    {
     "data": {
      "text/plain": [
       "u'New York City, Boston, Chicago, Dallas, Seattle, Portland, Las Vegas, Atlanta'"
      ]
     },
     "execution_count": 40,
     "metadata": {},
     "output_type": "execute_result"
    }
   ],
   "source": [
    "\", \".join(list(df['name'].values))"
   ]
  },
  {
   "cell_type": "code",
   "execution_count": 41,
   "metadata": {
    "collapsed": true
   },
   "outputs": [],
   "source": [
    "listvals = []\n",
    "for row in df.iterrows():\n",
    "    listvals.append(row[1]['name'] + ', ' + row[1]['state'])"
   ]
  },
  {
   "cell_type": "code",
   "execution_count": 42,
   "metadata": {
    "collapsed": false
   },
   "outputs": [
    {
     "data": {
      "text/plain": [
       "[u'New York City, NY',\n",
       " u'Boston, MA',\n",
       " u'Chicago, IL',\n",
       " u'Dallas, TX',\n",
       " u'Seattle, WA',\n",
       " u'Portland, OR',\n",
       " u'Las Vegas, NV',\n",
       " u'Atlanta, GA']"
      ]
     },
     "execution_count": 42,
     "metadata": {},
     "output_type": "execute_result"
    }
   ],
   "source": [
    "listvals"
   ]
  },
  {
   "cell_type": "code",
   "execution_count": 43,
   "metadata": {
    "collapsed": false
   },
   "outputs": [
    {
     "data": {
      "text/plain": [
       "u'New York City, NY, Boston, MA, Chicago, IL, Dallas, TX, Seattle, WA, Portland, OR, Las Vegas, NV, Atlanta, GA'"
      ]
     },
     "execution_count": 43,
     "metadata": {},
     "output_type": "execute_result"
    }
   ],
   "source": [
    "', '.join(listvals)"
   ]
  },
  {
   "cell_type": "code",
   "execution_count": 44,
   "metadata": {
    "collapsed": true
   },
   "outputs": [],
   "source": [
    "df['citystate'] = df['name'] + ', ' + df['state']"
   ]
  },
  {
   "cell_type": "code",
   "execution_count": 45,
   "metadata": {
    "collapsed": false
   },
   "outputs": [
    {
     "data": {
      "text/html": [
       "<div>\n",
       "<table border=\"1\" class=\"dataframe\">\n",
       "  <thead>\n",
       "    <tr style=\"text-align: right;\">\n",
       "      <th></th>\n",
       "      <th>name</th>\n",
       "      <th>state</th>\n",
       "      <th>citystate</th>\n",
       "    </tr>\n",
       "  </thead>\n",
       "  <tbody>\n",
       "    <tr>\n",
       "      <th>0</th>\n",
       "      <td>New York City</td>\n",
       "      <td>NY</td>\n",
       "      <td>New York City, NY</td>\n",
       "    </tr>\n",
       "    <tr>\n",
       "      <th>1</th>\n",
       "      <td>Boston</td>\n",
       "      <td>MA</td>\n",
       "      <td>Boston, MA</td>\n",
       "    </tr>\n",
       "    <tr>\n",
       "      <th>2</th>\n",
       "      <td>Chicago</td>\n",
       "      <td>IL</td>\n",
       "      <td>Chicago, IL</td>\n",
       "    </tr>\n",
       "    <tr>\n",
       "      <th>3</th>\n",
       "      <td>Dallas</td>\n",
       "      <td>TX</td>\n",
       "      <td>Dallas, TX</td>\n",
       "    </tr>\n",
       "    <tr>\n",
       "      <th>4</th>\n",
       "      <td>Seattle</td>\n",
       "      <td>WA</td>\n",
       "      <td>Seattle, WA</td>\n",
       "    </tr>\n",
       "  </tbody>\n",
       "</table>\n",
       "</div>"
      ],
      "text/plain": [
       "            name state          citystate\n",
       "0  New York City    NY  New York City, NY\n",
       "1         Boston    MA         Boston, MA\n",
       "2        Chicago    IL        Chicago, IL\n",
       "3         Dallas    TX         Dallas, TX\n",
       "4        Seattle    WA        Seattle, WA"
      ]
     },
     "execution_count": 45,
     "metadata": {},
     "output_type": "execute_result"
    }
   ],
   "source": [
    "df.head()"
   ]
  },
  {
   "cell_type": "code",
   "execution_count": 49,
   "metadata": {
    "collapsed": false
   },
   "outputs": [
    {
     "data": {
      "text/plain": [
       "u'These cities are warm: New York City, NY // Boston, MA // Chicago, IL // Dallas, TX // Seattle, WA // Portland, OR // Las Vegas, NV // Atlanta, GA'"
      ]
     },
     "execution_count": 49,
     "metadata": {},
     "output_type": "execute_result"
    }
   ],
   "source": [
    "\"These cities are warm: \" + ' // '.join(list(df['citystate'].values))"
   ]
  },
  {
   "cell_type": "code",
   "execution_count": 50,
   "metadata": {
    "collapsed": false
   },
   "outputs": [
    {
     "data": {
      "text/plain": [
       "'a, b, c'"
      ]
     },
     "execution_count": 50,
     "metadata": {},
     "output_type": "execute_result"
    }
   ],
   "source": [
    "mylist = ['a', 'b', 'c']\n",
    "', '.join(mylist)"
   ]
  },
  {
   "cell_type": "code",
   "execution_count": 54,
   "metadata": {
    "collapsed": false
   },
   "outputs": [],
   "source": [
    "df['citystate'] = df['citystate'].map(lambda val: val[-2:])"
   ]
  },
  {
   "cell_type": "code",
   "execution_count": 55,
   "metadata": {
    "collapsed": false
   },
   "outputs": [
    {
     "data": {
      "text/html": [
       "<div>\n",
       "<table border=\"1\" class=\"dataframe\">\n",
       "  <thead>\n",
       "    <tr style=\"text-align: right;\">\n",
       "      <th></th>\n",
       "      <th>name</th>\n",
       "      <th>state</th>\n",
       "      <th>citystate</th>\n",
       "    </tr>\n",
       "  </thead>\n",
       "  <tbody>\n",
       "    <tr>\n",
       "      <th>0</th>\n",
       "      <td>New York City</td>\n",
       "      <td>NY</td>\n",
       "      <td>NY</td>\n",
       "    </tr>\n",
       "    <tr>\n",
       "      <th>1</th>\n",
       "      <td>Boston</td>\n",
       "      <td>MA</td>\n",
       "      <td>MA</td>\n",
       "    </tr>\n",
       "    <tr>\n",
       "      <th>2</th>\n",
       "      <td>Chicago</td>\n",
       "      <td>IL</td>\n",
       "      <td>IL</td>\n",
       "    </tr>\n",
       "    <tr>\n",
       "      <th>3</th>\n",
       "      <td>Dallas</td>\n",
       "      <td>TX</td>\n",
       "      <td>TX</td>\n",
       "    </tr>\n",
       "    <tr>\n",
       "      <th>4</th>\n",
       "      <td>Seattle</td>\n",
       "      <td>WA</td>\n",
       "      <td>WA</td>\n",
       "    </tr>\n",
       "  </tbody>\n",
       "</table>\n",
       "</div>"
      ],
      "text/plain": [
       "            name state citystate\n",
       "0  New York City    NY        NY\n",
       "1         Boston    MA        MA\n",
       "2        Chicago    IL        IL\n",
       "3         Dallas    TX        TX\n",
       "4        Seattle    WA        WA"
      ]
     },
     "execution_count": 55,
     "metadata": {},
     "output_type": "execute_result"
    }
   ],
   "source": [
    "df.head()"
   ]
  },
  {
   "cell_type": "code",
   "execution_count": 56,
   "metadata": {
    "collapsed": false
   },
   "outputs": [
    {
     "name": "stdout",
     "output_type": "stream",
     "text": [
      "The Alcohol and Tobacco dataset Alcohol mean is 5.44363636364.\n",
      "The Alcohol and Tobacco dataset Tobacco mean is 3.61818181818.\n",
      "The Alcohol and Tobacco dataset Alcohol median is 5.63.\n",
      "The Alcohol and Tobacco dataset Tobacco median is 3.53.\n",
      "The Alcohol and Tobacco dataset Alcohol mode is ModeResult(mode=array([ 4.02]), count=array([1])).\n",
      "The Alcohol and Tobacco dataset Tobacco mode is ModeResult(mode=array([ 2.71]), count=array([1])).\n",
      "The Alcohol and Tobacco dataset Alcohol range is 2.45.\n",
      "The Alcohol and Tobacco dataset Tobacco range is 1.85.\n",
      "The Alcohol and Tobacco dataset Alcohol variance is 0.636425454545.\n",
      "The Alcohol and Tobacco dataset Tobacco variance is 0.348936363636.\n",
      "The Alcohol and Tobacco dataset Alcohol standard deviation is 0.797762780873.\n",
      "The Alcohol and Tobacco dataset Tobacco standard deviation is 0.590708357514.\n"
     ]
    }
   ],
   "source": [
    "import pandas as pd\n",
    "from scipy import stats\n",
    "\n",
    "data = '''Region,Alcohol,Tobacco\n",
    "North,6.47,4.03\n",
    "Yorkshire,6.13,3.76\n",
    "Northeast,6.19,3.77\n",
    "East Midlands,4.89,3.34\n",
    "West Midlands,5.63,3.47\n",
    "East Anglia,4.52,2.92\n",
    "Southeast,5.89,3.20\n",
    "Southwest,4.79,2.71\n",
    "Wales,5.27,3.53\n",
    "Scotland,6.08,4.51\n",
    "Northern Ireland,4.02,4.56'''\n",
    "\n",
    "data = data.splitlines()\n",
    "\n",
    "data = [i.split(',') for i in data]\n",
    "\n",
    "column_names = data[0] # this is the first row\n",
    "data_rows = data[1::] # these are all the following rows of data\n",
    "df = pd.DataFrame(data_rows, columns=column_names)\n",
    "\n",
    "df['Alcohol'] = df['Alcohol'].astype(float)\n",
    "df['Tobacco'] = df['Tobacco'].astype(float)\n",
    "\n",
    "# that prints the mean, median, mode, range, variance, and standard deviation for the Alcohol and Tobacco dataset with full text (ex. \"The range for the Alcohol and Tobacco dataset is ...\")\n",
    "\n",
    "print(\"The Alcohol and Tobacco dataset Alcohol mean is \" + str(df['Alcohol'].mean())+\".\" )\n",
    "print(\"The Alcohol and Tobacco dataset Tobacco mean is \" + str(df['Tobacco'].mean())+\".\" )\n",
    "\n",
    "print(\"The Alcohol and Tobacco dataset Alcohol median is \" + str(df['Alcohol'].median())+ \".\" )\n",
    "print(\"The Alcohol and Tobacco dataset Tobacco median is \" + str(df['Tobacco'].median())+ \".\" )\n",
    "\n",
    "print(\"The Alcohol and Tobacco dataset Alcohol mode is \" + str(stats.mode(df['Alcohol']))+ \".\" )\n",
    "print(\"The Alcohol and Tobacco dataset Tobacco mode is \" + str(stats.mode(df['Tobacco']))+ \".\" )\n",
    "\n",
    "print(\"The Alcohol and Tobacco dataset Alcohol range is \" + str(max(df['Alcohol']) - min(df['Alcohol']))+\".\" )\n",
    "print(\"The Alcohol and Tobacco dataset Tobacco range is \" + str(max(df['Tobacco']) - min(df['Tobacco']))+\".\" )\n",
    "\n",
    "print(\"The Alcohol and Tobacco dataset Alcohol variance is \" + str(df['Alcohol'].var())+ \".\" )\n",
    "print(\"The Alcohol and Tobacco dataset Tobacco variance is \" + str(df['Tobacco'].var())+ \".\" )\n",
    "\n",
    "print(\"The Alcohol and Tobacco dataset Alcohol standard deviation is \" + str(df['Alcohol'].std())+ \".\" )\n",
    "print(\"The Alcohol and Tobacco dataset Tobacco standard deviation is \" + str(df['Tobacco'].std())+ \".\" )"
   ]
  },
  {
   "cell_type": "code",
   "execution_count": 58,
   "metadata": {
    "collapsed": false
   },
   "outputs": [
    {
     "data": {
      "text/plain": [
       "ModeResult(mode=array([ 4.02]), count=array([1]))"
      ]
     },
     "execution_count": 58,
     "metadata": {},
     "output_type": "execute_result"
    }
   ],
   "source": [
    "stats.mode(df['Alcohol'])"
   ]
  },
  {
   "cell_type": "code",
   "execution_count": 72,
   "metadata": {
    "collapsed": false
   },
   "outputs": [
    {
     "data": {
      "text/plain": [
       "4.0199999999999996"
      ]
     },
     "execution_count": 72,
     "metadata": {},
     "output_type": "execute_result"
    }
   ],
   "source": [
    "stats.mode(df['Alcohol'])[0][0]"
   ]
  },
  {
   "cell_type": "code",
   "execution_count": 69,
   "metadata": {
    "collapsed": true
   },
   "outputs": [],
   "source": [
    "test = ([1], [2])"
   ]
  },
  {
   "cell_type": "code",
   "execution_count": 71,
   "metadata": {
    "collapsed": false
   },
   "outputs": [
    {
     "data": {
      "text/plain": [
       "1"
      ]
     },
     "execution_count": 71,
     "metadata": {},
     "output_type": "execute_result"
    }
   ],
   "source": [
    "test[0][0]"
   ]
  },
  {
   "cell_type": "code",
   "execution_count": 1,
   "metadata": {
    "collapsed": true
   },
   "outputs": [],
   "source": [
    "test = ([1])"
   ]
  },
  {
   "cell_type": "code",
   "execution_count": 2,
   "metadata": {
    "collapsed": false
   },
   "outputs": [
    {
     "ename": "TypeError",
     "evalue": "'int' object is not subscriptable",
     "output_type": "error",
     "traceback": [
      "\u001b[0;31m---------------------------------------------------------------------------\u001b[0m",
      "\u001b[0;31mTypeError\u001b[0m                                 Traceback (most recent call last)",
      "\u001b[0;32m<ipython-input-2-19b0b478bece>\u001b[0m in \u001b[0;36m<module>\u001b[0;34m()\u001b[0m\n\u001b[0;32m----> 1\u001b[0;31m \u001b[0mtest\u001b[0m\u001b[0;34m[\u001b[0m\u001b[0;36m0\u001b[0m\u001b[0;34m]\u001b[0m\u001b[0;34m[\u001b[0m\u001b[0;36m0\u001b[0m\u001b[0;34m]\u001b[0m\u001b[0;34m\u001b[0m\u001b[0m\n\u001b[0m",
      "\u001b[0;31mTypeError\u001b[0m: 'int' object is not subscriptable"
     ]
    }
   ],
   "source": [
    "test[0][0]"
   ]
  },
  {
   "cell_type": "code",
   "execution_count": 3,
   "metadata": {
    "collapsed": true
   },
   "outputs": [],
   "source": [
    "test = ([4.02])"
   ]
  },
  {
   "cell_type": "code",
   "execution_count": 4,
   "metadata": {
    "collapsed": false
   },
   "outputs": [
    {
     "ename": "TypeError",
     "evalue": "'float' object is not subscriptable",
     "output_type": "error",
     "traceback": [
      "\u001b[0;31m---------------------------------------------------------------------------\u001b[0m",
      "\u001b[0;31mTypeError\u001b[0m                                 Traceback (most recent call last)",
      "\u001b[0;32m<ipython-input-4-19b0b478bece>\u001b[0m in \u001b[0;36m<module>\u001b[0;34m()\u001b[0m\n\u001b[0;32m----> 1\u001b[0;31m \u001b[0mtest\u001b[0m\u001b[0;34m[\u001b[0m\u001b[0;36m0\u001b[0m\u001b[0;34m]\u001b[0m\u001b[0;34m[\u001b[0m\u001b[0;36m0\u001b[0m\u001b[0;34m]\u001b[0m\u001b[0;34m\u001b[0m\u001b[0m\n\u001b[0m",
      "\u001b[0;31mTypeError\u001b[0m: 'float' object is not subscriptable"
     ]
    }
   ],
   "source": [
    "test[0][0]"
   ]
  },
  {
   "cell_type": "code",
   "execution_count": 5,
   "metadata": {
    "collapsed": false
   },
   "outputs": [
    {
     "data": {
      "text/plain": [
       "4.02"
      ]
     },
     "execution_count": 5,
     "metadata": {},
     "output_type": "execute_result"
    }
   ],
   "source": [
    "test[0]"
   ]
  },
  {
   "cell_type": "code",
   "execution_count": 6,
   "metadata": {
    "collapsed": true
   },
   "outputs": [],
   "source": [
    "test = ([1],[2])"
   ]
  },
  {
   "cell_type": "code",
   "execution_count": 7,
   "metadata": {
    "collapsed": false
   },
   "outputs": [
    {
     "data": {
      "text/plain": [
       "[1]"
      ]
     },
     "execution_count": 7,
     "metadata": {},
     "output_type": "execute_result"
    }
   ],
   "source": [
    "test[0]"
   ]
  },
  {
   "cell_type": "code",
   "execution_count": 8,
   "metadata": {
    "collapsed": false
   },
   "outputs": [
    {
     "ename": "NameError",
     "evalue": "name 'listvals' is not defined",
     "output_type": "error",
     "traceback": [
      "\u001b[0;31m---------------------------------------------------------------------------\u001b[0m",
      "\u001b[0;31mNameError\u001b[0m                                 Traceback (most recent call last)",
      "\u001b[0;32m<ipython-input-8-d1eb110bd326>\u001b[0m in \u001b[0;36m<module>\u001b[0;34m()\u001b[0m\n\u001b[0;32m----> 1\u001b[0;31m \u001b[0;34m' // '\u001b[0m\u001b[0;34m.\u001b[0m\u001b[0mjoin\u001b[0m\u001b[0;34m(\u001b[0m\u001b[0mlistvals\u001b[0m\u001b[0;34m)\u001b[0m\u001b[0;34m\u001b[0m\u001b[0m\n\u001b[0m",
      "\u001b[0;31mNameError\u001b[0m: name 'listvals' is not defined"
     ]
    }
   ],
   "source": [
    "' // '.join(listvals)"
   ]
  },
  {
   "cell_type": "code",
   "execution_count": null,
   "metadata": {
    "collapsed": true
   },
   "outputs": [],
   "source": []
  }
 ],
 "metadata": {
  "kernelspec": {
   "display_name": "Python 3",
   "language": "python",
   "name": "python3"
  },
  "language_info": {
   "codemirror_mode": {
    "name": "ipython",
    "version": 3
   },
   "file_extension": ".py",
   "mimetype": "text/x-python",
   "name": "python",
   "nbconvert_exporter": "python",
   "pygments_lexer": "ipython3",
   "version": "3.5.0"
  }
 },
 "nbformat": 4,
 "nbformat_minor": 0
}
