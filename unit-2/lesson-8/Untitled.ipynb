{
 "cells": [
  {
   "cell_type": "code",
   "execution_count": 1,
   "metadata": {
    "collapsed": false
   },
   "outputs": [
    {
     "name": "stdout",
     "output_type": "stream",
     "text": [
      "           bear  bull  stagnant\n",
      "bull      0.075  0.90     0.025\n",
      "bear      0.800  0.15     0.050\n",
      "stagnant  0.250  0.25     0.500\n"
     ]
    }
   ],
   "source": [
    "import pandas as pd\n",
    "df = pd.DataFrame({'bull': [0.9, 0.15, 0.25],\n",
    "                   'bear': [0.075, 0.8, 0.25],\n",
    "                   'stagnant': [0.025, 0.05, 0.5]\n",
    "                  },\n",
    "                 index=[\"bull\",\"bear\", \"stagnant\"])\n",
    "print(df)"
   ]
  },
  {
   "cell_type": "code",
   "execution_count": 9,
   "metadata": {
    "collapsed": false
   },
   "outputs": [
    {
     "name": "stdout",
     "output_type": "stream",
     "text": [
      "[[ 0.731875  0.20875   0.059375]\n",
      " [ 0.1925    0.755     0.0525  ]\n",
      " [ 0.34375   0.3875    0.26875 ]]\n",
      "[[ 0.731875  0.20875   0.059375]\n",
      " [ 0.1925    0.755     0.0525  ]\n",
      " [ 0.34375   0.3875    0.26875 ]]\n",
      "             bear    bull  stagnant\n",
      "bull      0.13375  0.8275   0.03875\n",
      "bear      0.66375  0.2675   0.06875\n",
      "stagnant  0.34375  0.3875   0.26875\n"
     ]
    }
   ],
   "source": [
    "import numpy as np\n",
    "#transition probability after 2 transitions\n",
    "df2 = np.linalg.matrix_power(df, 2)\n",
    "print(df2)\n",
    "\n",
    "dftwo = np.matrix(df)\n",
    "dftwo = dftwo**2\n",
    "print(dftwo)\n",
    "\n",
    "print(df.dot(df))"
   ]
  },
  {
   "cell_type": "code",
   "execution_count": null,
   "metadata": {
    "collapsed": false
   },
   "outputs": [],
   "source": []
  },
  {
   "cell_type": "code",
   "execution_count": null,
   "metadata": {
    "collapsed": true
   },
   "outputs": [],
   "source": []
  }
 ],
 "metadata": {
  "kernelspec": {
   "display_name": "Python 2",
   "language": "python",
   "name": "python2"
  },
  "language_info": {
   "codemirror_mode": {
    "name": "ipython",
    "version": 2
   },
   "file_extension": ".py",
   "mimetype": "text/x-python",
   "name": "python",
   "nbconvert_exporter": "python",
   "pygments_lexer": "ipython2",
   "version": "2.7.11"
  }
 },
 "nbformat": 4,
 "nbformat_minor": 0
}
