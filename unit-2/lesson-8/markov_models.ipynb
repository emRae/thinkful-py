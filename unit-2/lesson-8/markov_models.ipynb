{
 "cells": [
  {
   "cell_type": "code",
   "execution_count": 2,
   "metadata": {
    "collapsed": false
   },
   "outputs": [
    {
     "name": "stdout",
     "output_type": "stream",
     "text": [
      "           bear  bull  stagnant\n",
      "bull      0.075  0.90     0.025\n",
      "bear      0.800  0.15     0.050\n",
      "stagnant  0.250  0.25     0.500\n"
     ]
    }
   ],
   "source": [
    "import pandas as pd\n",
    "df = pd.DataFrame({'bull': [0.9, 0.15, 0.25],\n",
    "                   'bear': [0.075, 0.8, 0.25],\n",
    "                   'stagnant': [0.025, 0.05, 0.5]\n",
    "                  },\n",
    "                 index=[\"bull\",\"bear\", \"stagnant\"])\n",
    "print(df)"
   ]
  },
  {
   "cell_type": "code",
   "execution_count": 3,
   "metadata": {
    "collapsed": false
   },
   "outputs": [
    {
     "name": "stdout",
     "output_type": "stream",
     "text": [
      "Transition probability after 2 transitions:\n",
      "             bear    bull  stagnant\n",
      "bull      0.13375  0.8275   0.03875\n",
      "bear      0.66375  0.2675   0.06875\n",
      "stagnant  0.34375  0.3875   0.26875\n",
      "Transition probability after 5 transitions:\n",
      "              bear     bull  stagnant\n",
      "bull      0.238305  0.70683  0.054865\n",
      "bear      0.450515  0.47661  0.072875\n",
      "stagnant  0.364375  0.54865  0.086975\n"
     ]
    }
   ],
   "source": [
    "import numpy as np\n",
    "from numpy import linalg as LA\n",
    "#transition probability after 2 transitions\n",
    "# while x < 2:\n",
    "#     x = 0\n",
    "#     origDF = df\n",
    "#     dotproductDF = (df.dot(df))\n",
    "#     newDF = \n",
    "    \n",
    "#     x += 1\n",
    "\n",
    "dotproductDF = (df.dot(df))\n",
    "print(\"Transition probability after 2 transitions:\")\n",
    "print(dotproductDF)\n",
    "\n",
    "# numpyDF = df.as_matrix()\n",
    "# print(numpyDF)\n",
    "# numpyDFpower = LA.matrix_power(numpyDF, 2)\n",
    "\n",
    "# print(numpyDFpower)\n",
    "\n",
    "#transition probability after 5 transitions\n",
    "dotproductDF5 = (df.dot(df.dot(df.dot(df.dot(df)))))\n",
    "print(\"Transition probability after 5 transitions:\")\n",
    "print(dotproductDF5)"
   ]
  },
  {
   "cell_type": "code",
   "execution_count": 9,
   "metadata": {
    "collapsed": false
   },
   "outputs": [
    {
     "name": "stdout",
     "output_type": "stream",
     "text": [
      "Columns = Bull, Bear, Stagnant. Rows = Bull, Bear, Stagnant.\n",
      "[[ 0.9    0.15   0.25 ]\n",
      " [ 0.075  0.8    0.25 ]\n",
      " [ 0.025  0.05   0.5  ]]\n"
     ]
    }
   ],
   "source": [
    "#try this with numpy\n",
    "marketTransNumpy = np.array([[0.9, 0.15, 0.25],\n",
    "                   [0.075, 0.8, 0.25],\n",
    "                   [0.025, 0.05, 0.5]])\n",
    "print(\"Columns = Bull, Bear, Stagnant. Rows = Bull, Bear, Stagnant.\")\n",
    "print(marketTransNumpy)"
   ]
  },
  {
   "cell_type": "code",
   "execution_count": 7,
   "metadata": {
    "collapsed": false
   },
   "outputs": [
    {
     "name": "stdout",
     "output_type": "stream",
     "text": [
      "[[ 0.8275   0.2675   0.3875 ]\n",
      " [ 0.13375  0.66375  0.34375]\n",
      " [ 0.03875  0.06875  0.26875]]\n"
     ]
    }
   ],
   "source": [
    "marketTransNumpy2 = LA.matrix_power(marketTransNumpy, 2)\n",
    "print(marketTransNumpy2)"
   ]
  },
  {
   "cell_type": "code",
   "execution_count": 8,
   "metadata": {
    "collapsed": false
   },
   "outputs": [
    {
     "name": "stdout",
     "output_type": "stream",
     "text": [
      "[[ 0.70683   0.47661   0.54865 ]\n",
      " [ 0.238305  0.450515  0.364375]\n",
      " [ 0.054865  0.072875  0.086975]]\n"
     ]
    }
   ],
   "source": [
    "marketTransNumpy5 = LA.matrix_power(marketTransNumpy, 5)\n",
    "print(marketTransNumpy5)"
   ]
  },
  {
   "cell_type": "code",
   "execution_count": 10,
   "metadata": {
    "collapsed": false
   },
   "outputs": [
    {
     "name": "stdout",
     "output_type": "stream",
     "text": [
      "[[ 0.64328888  0.59158507  0.60918588]\n",
      " [ 0.29579253  0.34309614  0.32659396]\n",
      " [ 0.06091859  0.06531879  0.06422016]]\n"
     ]
    }
   ],
   "source": [
    "marketTransNumpy10 = LA.matrix_power(marketTransNumpy, 10)\n",
    "print(marketTransNumpy10)"
   ]
  },
  {
   "cell_type": "code",
   "execution_count": 12,
   "metadata": {
    "collapsed": false
   },
   "outputs": [
    {
     "name": "stdout",
     "output_type": "stream",
     "text": [
      "[[ 0.625   0.625   0.625 ]\n",
      " [ 0.3125  0.3125  0.3125]\n",
      " [ 0.0625  0.0625  0.0625]]\n"
     ]
    }
   ],
   "source": [
    "marketTransNumpy75 = LA.matrix_power(marketTransNumpy, 75)\n",
    "print(marketTransNumpy75)"
   ]
  },
  {
   "cell_type": "code",
   "execution_count": null,
   "metadata": {
    "collapsed": true
   },
   "outputs": [],
   "source": []
  }
 ],
 "metadata": {
  "kernelspec": {
   "display_name": "Python 3",
   "language": "python",
   "name": "python3"
  },
  "language_info": {
   "codemirror_mode": {
    "name": "ipython",
    "version": 3
   },
   "file_extension": ".py",
   "mimetype": "text/x-python",
   "name": "python",
   "nbconvert_exporter": "python",
   "pygments_lexer": "ipython3",
   "version": "3.5.0"
  }
 },
 "nbformat": 4,
 "nbformat_minor": 0
}
