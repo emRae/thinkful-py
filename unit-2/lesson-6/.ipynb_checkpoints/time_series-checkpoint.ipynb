{
 "cells": [
  {
   "cell_type": "code",
   "execution_count": 7,
   "metadata": {
    "collapsed": true
   },
   "outputs": [
    {
     "data": {
      "text/html": [
       "<div>\n",
       "<table border=\"1\" class=\"dataframe\">\n",
       "  <thead>\n",
       "    <tr style=\"text-align: right;\">\n",
       "      <th></th>\n",
       "      <th>id</th>\n",
       "      <th>member_id</th>\n",
       "      <th>loan_amnt</th>\n",
       "      <th>funded_amnt</th>\n",
       "      <th>funded_amnt_inv</th>\n",
       "      <th>term</th>\n",
       "      <th>int_rate</th>\n",
       "      <th>installment</th>\n",
       "      <th>grade</th>\n",
       "      <th>sub_grade</th>\n",
       "      <th>...</th>\n",
       "      <th>num_tl_op_past_12m</th>\n",
       "      <th>pct_tl_nvr_dlq</th>\n",
       "      <th>percent_bc_gt_75</th>\n",
       "      <th>pub_rec_bankruptcies</th>\n",
       "      <th>tax_liens</th>\n",
       "      <th>tot_hi_cred_lim</th>\n",
       "      <th>total_bal_ex_mort</th>\n",
       "      <th>total_bc_limit</th>\n",
       "      <th>total_il_high_credit_limit</th>\n",
       "      <th>issue_d_format</th>\n",
       "    </tr>\n",
       "  </thead>\n",
       "  <tbody>\n",
       "    <tr>\n",
       "      <th>0</th>\n",
       "      <td>10149488</td>\n",
       "      <td>12001033</td>\n",
       "      <td>4800</td>\n",
       "      <td>4800</td>\n",
       "      <td>4800</td>\n",
       "      <td>36 months</td>\n",
       "      <td>10.99%</td>\n",
       "      <td>157.13</td>\n",
       "      <td>B</td>\n",
       "      <td>B2</td>\n",
       "      <td>...</td>\n",
       "      <td>0</td>\n",
       "      <td>100.0</td>\n",
       "      <td>0.0</td>\n",
       "      <td>0</td>\n",
       "      <td>0</td>\n",
       "      <td>25700</td>\n",
       "      <td>4136</td>\n",
       "      <td>25700</td>\n",
       "      <td>0</td>\n",
       "      <td>2013-12-01</td>\n",
       "    </tr>\n",
       "    <tr>\n",
       "      <th>1</th>\n",
       "      <td>10119623</td>\n",
       "      <td>11971241</td>\n",
       "      <td>12000</td>\n",
       "      <td>12000</td>\n",
       "      <td>12000</td>\n",
       "      <td>36 months</td>\n",
       "      <td>11.99%</td>\n",
       "      <td>398.52</td>\n",
       "      <td>B</td>\n",
       "      <td>B3</td>\n",
       "      <td>...</td>\n",
       "      <td>3</td>\n",
       "      <td>100.0</td>\n",
       "      <td>1.0</td>\n",
       "      <td>0</td>\n",
       "      <td>0</td>\n",
       "      <td>365874</td>\n",
       "      <td>44327</td>\n",
       "      <td>10700</td>\n",
       "      <td>57674</td>\n",
       "      <td>2013-12-01</td>\n",
       "    </tr>\n",
       "    <tr>\n",
       "      <th>2</th>\n",
       "      <td>10159498</td>\n",
       "      <td>1319523</td>\n",
       "      <td>12000</td>\n",
       "      <td>12000</td>\n",
       "      <td>12000</td>\n",
       "      <td>36 months</td>\n",
       "      <td>6.62%</td>\n",
       "      <td>368.45</td>\n",
       "      <td>A</td>\n",
       "      <td>A2</td>\n",
       "      <td>...</td>\n",
       "      <td>2</td>\n",
       "      <td>95.5</td>\n",
       "      <td>0.0</td>\n",
       "      <td>0</td>\n",
       "      <td>0</td>\n",
       "      <td>333044</td>\n",
       "      <td>42603</td>\n",
       "      <td>52600</td>\n",
       "      <td>42769</td>\n",
       "      <td>2013-12-01</td>\n",
       "    </tr>\n",
       "    <tr>\n",
       "      <th>3</th>\n",
       "      <td>10149342</td>\n",
       "      <td>12000897</td>\n",
       "      <td>27050</td>\n",
       "      <td>27050</td>\n",
       "      <td>27050</td>\n",
       "      <td>36 months</td>\n",
       "      <td>10.99%</td>\n",
       "      <td>885.46</td>\n",
       "      <td>B</td>\n",
       "      <td>B2</td>\n",
       "      <td>...</td>\n",
       "      <td>1</td>\n",
       "      <td>100.0</td>\n",
       "      <td>25.0</td>\n",
       "      <td>0</td>\n",
       "      <td>0</td>\n",
       "      <td>138554</td>\n",
       "      <td>70186</td>\n",
       "      <td>35700</td>\n",
       "      <td>33054</td>\n",
       "      <td>2013-12-01</td>\n",
       "    </tr>\n",
       "    <tr>\n",
       "      <th>4</th>\n",
       "      <td>10179520</td>\n",
       "      <td>12031088</td>\n",
       "      <td>3000</td>\n",
       "      <td>3000</td>\n",
       "      <td>3000</td>\n",
       "      <td>36 months</td>\n",
       "      <td>12.85%</td>\n",
       "      <td>100.87</td>\n",
       "      <td>B</td>\n",
       "      <td>B4</td>\n",
       "      <td>...</td>\n",
       "      <td>1</td>\n",
       "      <td>91.3</td>\n",
       "      <td>66.7</td>\n",
       "      <td>2</td>\n",
       "      <td>0</td>\n",
       "      <td>32082</td>\n",
       "      <td>19530</td>\n",
       "      <td>4300</td>\n",
       "      <td>26782</td>\n",
       "      <td>2013-12-01</td>\n",
       "    </tr>\n",
       "  </tbody>\n",
       "</table>\n",
       "<p>5 rows × 112 columns</p>\n",
       "</div>"
      ],
      "text/plain": [
       "         id  member_id  loan_amnt  funded_amnt  funded_amnt_inv        term  \\\n",
       "0  10149488   12001033       4800         4800             4800   36 months   \n",
       "1  10119623   11971241      12000        12000            12000   36 months   \n",
       "2  10159498    1319523      12000        12000            12000   36 months   \n",
       "3  10149342   12000897      27050        27050            27050   36 months   \n",
       "4  10179520   12031088       3000         3000             3000   36 months   \n",
       "\n",
       "  int_rate  installment grade sub_grade      ...       num_tl_op_past_12m  \\\n",
       "0   10.99%       157.13     B        B2      ...                        0   \n",
       "1   11.99%       398.52     B        B3      ...                        3   \n",
       "2    6.62%       368.45     A        A2      ...                        2   \n",
       "3   10.99%       885.46     B        B2      ...                        1   \n",
       "4   12.85%       100.87     B        B4      ...                        1   \n",
       "\n",
       "  pct_tl_nvr_dlq percent_bc_gt_75  pub_rec_bankruptcies tax_liens  \\\n",
       "0          100.0              0.0                     0         0   \n",
       "1          100.0              1.0                     0         0   \n",
       "2           95.5              0.0                     0         0   \n",
       "3          100.0             25.0                     0         0   \n",
       "4           91.3             66.7                     2         0   \n",
       "\n",
       "  tot_hi_cred_lim total_bal_ex_mort total_bc_limit total_il_high_credit_limit  \\\n",
       "0           25700              4136          25700                          0   \n",
       "1          365874             44327          10700                      57674   \n",
       "2          333044             42603          52600                      42769   \n",
       "3          138554             70186          35700                      33054   \n",
       "4           32082             19530           4300                      26782   \n",
       "\n",
       "  issue_d_format  \n",
       "0     2013-12-01  \n",
       "1     2013-12-01  \n",
       "2     2013-12-01  \n",
       "3     2013-12-01  \n",
       "4     2013-12-01  \n",
       "\n",
       "[5 rows x 112 columns]"
      ]
     },
     "execution_count": 7,
     "metadata": {},
     "output_type": "execute_result"
    }
   ],
   "source": [
    "import pandas as pd\n",
    "import numpy as np\n",
    "import matplotlib.pylab as plt\n",
    "%matplotlib inline\n",
    "from matplotlib.pylab import rcParams\n",
    "rcParams['figure.figsize'] = 15, 6\n",
    "\n",
    "df = pd.read_csv('LoanStats3b.csv', header=1, low_memory=False)\n",
    "\n",
    "# converts string to datetime object in pandas:\n",
    "df['issue_d_format'] = pd.to_datetime(df['issue_d']) \n",
    "dfts = df.set_index('issue_d_format') \n",
    "year_month_summary = dfts.groupby(lambda x : x.year * 100 + x.month).count()\n",
    "loan_count_summary = year_month_summary['issue_d']\n",
    "\n",
    "df.head()\n"
   ]
  },
  {
   "cell_type": "code",
   "execution_count": 17,
   "metadata": {
    "collapsed": false
   },
   "outputs": [
    {
     "data": {
      "text/plain": [
       "201201     2602\n",
       "201202     2560\n",
       "201203     2914\n",
       "201204     3230\n",
       "201205     3400\n",
       "201206     3817\n",
       "201207     4627\n",
       "201208     5419\n",
       "201209     6087\n",
       "201210     6263\n",
       "201211     6382\n",
       "201212     6066\n",
       "201301     6872\n",
       "201302     7561\n",
       "201303     8273\n",
       "201304     9419\n",
       "201305    10350\n",
       "201306    10899\n",
       "201307    11910\n",
       "201308    12674\n",
       "201309    12987\n",
       "201310    14115\n",
       "201311    14676\n",
       "201312    15020\n",
       "Name: issue_d, dtype: int64"
      ]
     },
     "execution_count": 17,
     "metadata": {},
     "output_type": "execute_result"
    }
   ],
   "source": [
    "loan_count_summary"
   ]
  },
  {
   "cell_type": "code",
   "execution_count": 16,
   "metadata": {
    "collapsed": false
   },
   "outputs": [
    {
     "data": {
      "text/plain": [
       "[<matplotlib.lines.Line2D at 0x18129b710>]"
      ]
     },
     "execution_count": 16,
     "metadata": {},
     "output_type": "execute_result"
    },
    {
     "data": {
      "image/png": "[encoded data removed]",
      "text/plain": [
       "<matplotlib.figure.Figure at 0x115a01828>"
      ]
     },
     "metadata": {},
     "output_type": "display_data"
    }
   ],
   "source": [
    "plt.plot(loan_count_summary)"
   ]
  },
  {
   "cell_type": "code",
   "execution_count": null,
   "metadata": {
    "collapsed": true
   },
   "outputs": [],
   "source": []
  }
 ],
 "metadata": {
  "kernelspec": {
   "display_name": "Python 3",
   "language": "python",
   "name": "python3"
  },
  "language_info": {
   "codemirror_mode": {
    "name": "ipython",
    "version": 3
   },
   "file_extension": ".py",
   "mimetype": "text/x-python",
   "name": "python",
   "nbconvert_exporter": "python",
   "pygments_lexer": "ipython3",
   "version": "3.5.0"
  }
 },
 "nbformat": 4,
 "nbformat_minor": 0
}
