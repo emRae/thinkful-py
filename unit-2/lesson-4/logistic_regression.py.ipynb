{
 "cells": [
  {
   "cell_type": "code",
   "execution_count": 16,
   "metadata": {
    "collapsed": false
   },
   "outputs": [
    {
     "data": {
      "text/plain": [
       "0    0.0890\n",
       "1    0.1212\n",
       "2    0.2198\n",
       "3    0.0999\n",
       "4    0.1171\n",
       "Name: Interest.Rate, dtype: float64"
      ]
     },
     "execution_count": 16,
     "metadata": {},
     "output_type": "execute_result"
    }
   ],
   "source": [
    "import pandas as pd\n",
    "import statsmodels.api as sm\n",
    "\n",
    "df = pd.read_csv('loansData_clean.csv')\n",
    "df['Interest.Rate'][0:5]"
   ]
  },
  {
   "cell_type": "code",
   "execution_count": 17,
   "metadata": {
    "collapsed": true
   },
   "outputs": [],
   "source": [
    "df['IR_TF'] = df['Interest.Rate'].map(lambda val: 1 if val < 0.1200 else 0)"
   ]
  },
  {
   "cell_type": "code",
   "execution_count": 18,
   "metadata": {
    "collapsed": false
   },
   "outputs": [
    {
     "data": {
      "text/plain": [
       "0    1\n",
       "1    0\n",
       "2    0\n",
       "3    1\n",
       "4    1\n",
       "Name: IR_TF, dtype: int64"
      ]
     },
     "execution_count": 18,
     "metadata": {},
     "output_type": "execute_result"
    }
   ],
   "source": [
    "df['IR_TF'][0:5]"
   ]
  },
  {
   "cell_type": "code",
   "execution_count": 19,
   "metadata": {
    "collapsed": false
   },
   "outputs": [
    {
     "data": {
      "text/html": [
       "<div>\n",
       "<table border=\"1\" class=\"dataframe\">\n",
       "  <thead>\n",
       "    <tr style=\"text-align: right;\">\n",
       "      <th></th>\n",
       "      <th>Amount.Requested</th>\n",
       "      <th>Amount.Funded.By.Investors</th>\n",
       "      <th>Interest.Rate</th>\n",
       "      <th>Loan.Length</th>\n",
       "      <th>Loan.Purpose</th>\n",
       "      <th>Debt.To.Income.Ratio</th>\n",
       "      <th>State</th>\n",
       "      <th>Home.Ownership</th>\n",
       "      <th>Monthly.Income</th>\n",
       "      <th>FICO.Range</th>\n",
       "      <th>Open.CREDIT.Lines</th>\n",
       "      <th>Revolving.CREDIT.Balance</th>\n",
       "      <th>Inquiries.in.the.Last.6.Months</th>\n",
       "      <th>Employment.Length</th>\n",
       "      <th>FICO.Score</th>\n",
       "      <th>IR_TF</th>\n",
       "    </tr>\n",
       "  </thead>\n",
       "  <tbody>\n",
       "    <tr>\n",
       "      <th>203</th>\n",
       "      <td>6000</td>\n",
       "      <td>5950</td>\n",
       "      <td>0.1</td>\n",
       "      <td>36</td>\n",
       "      <td>major_purchase</td>\n",
       "      <td>8.74%</td>\n",
       "      <td>FL</td>\n",
       "      <td>MORTGAGE</td>\n",
       "      <td>15416.67</td>\n",
       "      <td>715-719</td>\n",
       "      <td>9</td>\n",
       "      <td>105730</td>\n",
       "      <td>1</td>\n",
       "      <td>10+ years</td>\n",
       "      <td>715</td>\n",
       "      <td>1</td>\n",
       "    </tr>\n",
       "    <tr>\n",
       "      <th>439</th>\n",
       "      <td>21000</td>\n",
       "      <td>20925</td>\n",
       "      <td>0.1</td>\n",
       "      <td>36</td>\n",
       "      <td>credit_card</td>\n",
       "      <td>14.08%</td>\n",
       "      <td>CA</td>\n",
       "      <td>RENT</td>\n",
       "      <td>6250.00</td>\n",
       "      <td>730-734</td>\n",
       "      <td>8</td>\n",
       "      <td>21102</td>\n",
       "      <td>0</td>\n",
       "      <td>2 years</td>\n",
       "      <td>730</td>\n",
       "      <td>1</td>\n",
       "    </tr>\n",
       "    <tr>\n",
       "      <th>520</th>\n",
       "      <td>12000</td>\n",
       "      <td>12000</td>\n",
       "      <td>0.1</td>\n",
       "      <td>36</td>\n",
       "      <td>debt_consolidation</td>\n",
       "      <td>12.32%</td>\n",
       "      <td>WI</td>\n",
       "      <td>MORTGAGE</td>\n",
       "      <td>5000.00</td>\n",
       "      <td>715-719</td>\n",
       "      <td>6</td>\n",
       "      <td>4515</td>\n",
       "      <td>1</td>\n",
       "      <td>7 years</td>\n",
       "      <td>715</td>\n",
       "      <td>1</td>\n",
       "    </tr>\n",
       "    <tr>\n",
       "      <th>649</th>\n",
       "      <td>2800</td>\n",
       "      <td>2800</td>\n",
       "      <td>0.1</td>\n",
       "      <td>36</td>\n",
       "      <td>debt_consolidation</td>\n",
       "      <td>20.32%</td>\n",
       "      <td>CA</td>\n",
       "      <td>RENT</td>\n",
       "      <td>3250.00</td>\n",
       "      <td>700-704</td>\n",
       "      <td>4</td>\n",
       "      <td>8717</td>\n",
       "      <td>0</td>\n",
       "      <td>5 years</td>\n",
       "      <td>700</td>\n",
       "      <td>1</td>\n",
       "    </tr>\n",
       "    <tr>\n",
       "      <th>1016</th>\n",
       "      <td>5000</td>\n",
       "      <td>5000</td>\n",
       "      <td>0.1</td>\n",
       "      <td>60</td>\n",
       "      <td>car</td>\n",
       "      <td>9.28%</td>\n",
       "      <td>FL</td>\n",
       "      <td>RENT</td>\n",
       "      <td>4000.00</td>\n",
       "      <td>735-739</td>\n",
       "      <td>6</td>\n",
       "      <td>3448</td>\n",
       "      <td>0</td>\n",
       "      <td>&lt; 1 year</td>\n",
       "      <td>735</td>\n",
       "      <td>1</td>\n",
       "    </tr>\n",
       "  </tbody>\n",
       "</table>\n",
       "</div>"
      ],
      "text/plain": [
       "      Amount.Requested  Amount.Funded.By.Investors  Interest.Rate  \\\n",
       "203               6000                        5950            0.1   \n",
       "439              21000                       20925            0.1   \n",
       "520              12000                       12000            0.1   \n",
       "649               2800                        2800            0.1   \n",
       "1016              5000                        5000            0.1   \n",
       "\n",
       "      Loan.Length        Loan.Purpose Debt.To.Income.Ratio State  \\\n",
       "203            36      major_purchase                8.74%    FL   \n",
       "439            36         credit_card               14.08%    CA   \n",
       "520            36  debt_consolidation               12.32%    WI   \n",
       "649            36  debt_consolidation               20.32%    CA   \n",
       "1016           60                 car                9.28%    FL   \n",
       "\n",
       "     Home.Ownership  Monthly.Income FICO.Range  Open.CREDIT.Lines  \\\n",
       "203        MORTGAGE        15416.67    715-719                  9   \n",
       "439            RENT         6250.00    730-734                  8   \n",
       "520        MORTGAGE         5000.00    715-719                  6   \n",
       "649            RENT         3250.00    700-704                  4   \n",
       "1016           RENT         4000.00    735-739                  6   \n",
       "\n",
       "      Revolving.CREDIT.Balance  Inquiries.in.the.Last.6.Months  \\\n",
       "203                     105730                               1   \n",
       "439                      21102                               0   \n",
       "520                       4515                               1   \n",
       "649                       8717                               0   \n",
       "1016                      3448                               0   \n",
       "\n",
       "     Employment.Length  FICO.Score  IR_TF  \n",
       "203          10+ years         715      1  \n",
       "439            2 years         730      1  \n",
       "520            7 years         715      1  \n",
       "649            5 years         700      1  \n",
       "1016          < 1 year         735      1  "
      ]
     },
     "execution_count": 19,
     "metadata": {},
     "output_type": "execute_result"
    }
   ],
   "source": [
    "df[df['Interest.Rate'] == .1000].head()"
   ]
  },
  {
   "cell_type": "code",
   "execution_count": 22,
   "metadata": {
    "collapsed": false
   },
   "outputs": [
    {
     "data": {
      "text/html": [
       "<div>\n",
       "<table border=\"1\" class=\"dataframe\">\n",
       "  <thead>\n",
       "    <tr style=\"text-align: right;\">\n",
       "      <th></th>\n",
       "      <th>Amount.Requested</th>\n",
       "      <th>Amount.Funded.By.Investors</th>\n",
       "      <th>Interest.Rate</th>\n",
       "      <th>Loan.Length</th>\n",
       "      <th>Loan.Purpose</th>\n",
       "      <th>Debt.To.Income.Ratio</th>\n",
       "      <th>State</th>\n",
       "      <th>Home.Ownership</th>\n",
       "      <th>Monthly.Income</th>\n",
       "      <th>FICO.Range</th>\n",
       "      <th>Open.CREDIT.Lines</th>\n",
       "      <th>Revolving.CREDIT.Balance</th>\n",
       "      <th>Inquiries.in.the.Last.6.Months</th>\n",
       "      <th>Employment.Length</th>\n",
       "      <th>FICO.Score</th>\n",
       "      <th>IR_TF</th>\n",
       "    </tr>\n",
       "  </thead>\n",
       "  <tbody>\n",
       "    <tr>\n",
       "      <th>2</th>\n",
       "      <td>35000</td>\n",
       "      <td>35000</td>\n",
       "      <td>0.2198</td>\n",
       "      <td>60</td>\n",
       "      <td>debt_consolidation</td>\n",
       "      <td>23.81%</td>\n",
       "      <td>CA</td>\n",
       "      <td>MORTGAGE</td>\n",
       "      <td>11500.00</td>\n",
       "      <td>690-694</td>\n",
       "      <td>14</td>\n",
       "      <td>21977</td>\n",
       "      <td>1</td>\n",
       "      <td>2 years</td>\n",
       "      <td>690</td>\n",
       "      <td>0</td>\n",
       "    </tr>\n",
       "    <tr>\n",
       "      <th>20</th>\n",
       "      <td>22000</td>\n",
       "      <td>21975</td>\n",
       "      <td>0.2198</td>\n",
       "      <td>36</td>\n",
       "      <td>debt_consolidation</td>\n",
       "      <td>11.19%</td>\n",
       "      <td>TX</td>\n",
       "      <td>MORTGAGE</td>\n",
       "      <td>6666.67</td>\n",
       "      <td>665-669</td>\n",
       "      <td>9</td>\n",
       "      <td>23124</td>\n",
       "      <td>0</td>\n",
       "      <td>10+ years</td>\n",
       "      <td>665</td>\n",
       "      <td>0</td>\n",
       "    </tr>\n",
       "    <tr>\n",
       "      <th>755</th>\n",
       "      <td>3800</td>\n",
       "      <td>3800</td>\n",
       "      <td>0.2198</td>\n",
       "      <td>36</td>\n",
       "      <td>small_business</td>\n",
       "      <td>8.31%</td>\n",
       "      <td>CA</td>\n",
       "      <td>RENT</td>\n",
       "      <td>4333.33</td>\n",
       "      <td>680-684</td>\n",
       "      <td>6</td>\n",
       "      <td>4843</td>\n",
       "      <td>2</td>\n",
       "      <td>7 years</td>\n",
       "      <td>680</td>\n",
       "      <td>0</td>\n",
       "    </tr>\n",
       "    <tr>\n",
       "      <th>1281</th>\n",
       "      <td>9500</td>\n",
       "      <td>9500</td>\n",
       "      <td>0.2198</td>\n",
       "      <td>36</td>\n",
       "      <td>other</td>\n",
       "      <td>16.01%</td>\n",
       "      <td>PA</td>\n",
       "      <td>RENT</td>\n",
       "      <td>4500.00</td>\n",
       "      <td>660-664</td>\n",
       "      <td>7</td>\n",
       "      <td>3673</td>\n",
       "      <td>1</td>\n",
       "      <td>3 years</td>\n",
       "      <td>660</td>\n",
       "      <td>0</td>\n",
       "    </tr>\n",
       "    <tr>\n",
       "      <th>1681</th>\n",
       "      <td>20000</td>\n",
       "      <td>20000</td>\n",
       "      <td>0.2198</td>\n",
       "      <td>60</td>\n",
       "      <td>home_improvement</td>\n",
       "      <td>17.08%</td>\n",
       "      <td>TX</td>\n",
       "      <td>MORTGAGE</td>\n",
       "      <td>5000.00</td>\n",
       "      <td>675-679</td>\n",
       "      <td>5</td>\n",
       "      <td>19780</td>\n",
       "      <td>1</td>\n",
       "      <td>2 years</td>\n",
       "      <td>675</td>\n",
       "      <td>0</td>\n",
       "    </tr>\n",
       "  </tbody>\n",
       "</table>\n",
       "</div>"
      ],
      "text/plain": [
       "      Amount.Requested  Amount.Funded.By.Investors  Interest.Rate  \\\n",
       "2                35000                       35000         0.2198   \n",
       "20               22000                       21975         0.2198   \n",
       "755               3800                        3800         0.2198   \n",
       "1281              9500                        9500         0.2198   \n",
       "1681             20000                       20000         0.2198   \n",
       "\n",
       "      Loan.Length        Loan.Purpose Debt.To.Income.Ratio State  \\\n",
       "2              60  debt_consolidation               23.81%    CA   \n",
       "20             36  debt_consolidation               11.19%    TX   \n",
       "755            36      small_business                8.31%    CA   \n",
       "1281           36               other               16.01%    PA   \n",
       "1681           60    home_improvement               17.08%    TX   \n",
       "\n",
       "     Home.Ownership  Monthly.Income FICO.Range  Open.CREDIT.Lines  \\\n",
       "2          MORTGAGE        11500.00    690-694                 14   \n",
       "20         MORTGAGE         6666.67    665-669                  9   \n",
       "755            RENT         4333.33    680-684                  6   \n",
       "1281           RENT         4500.00    660-664                  7   \n",
       "1681       MORTGAGE         5000.00    675-679                  5   \n",
       "\n",
       "      Revolving.CREDIT.Balance  Inquiries.in.the.Last.6.Months  \\\n",
       "2                        21977                               1   \n",
       "20                       23124                               0   \n",
       "755                       4843                               2   \n",
       "1281                      3673                               1   \n",
       "1681                     19780                               1   \n",
       "\n",
       "     Employment.Length  FICO.Score  IR_TF  \n",
       "2              2 years         690      0  \n",
       "20           10+ years         665      0  \n",
       "755            7 years         680      0  \n",
       "1281           3 years         660      0  \n",
       "1681           2 years         675      0  "
      ]
     },
     "execution_count": 22,
     "metadata": {},
     "output_type": "execute_result"
    }
   ],
   "source": [
    "df[df['Interest.Rate'] == .2198].head()"
   ]
  },
  {
   "cell_type": "code",
   "execution_count": 23,
   "metadata": {
    "collapsed": true
   },
   "outputs": [],
   "source": [
    "df['Intercept'] = float(1.0)"
   ]
  },
  {
   "cell_type": "code",
   "execution_count": 24,
   "metadata": {
    "collapsed": false
   },
   "outputs": [
    {
     "data": {
      "text/plain": [
       "0    1\n",
       "1    1\n",
       "2    1\n",
       "3    1\n",
       "4    1\n",
       "Name: Intercept, dtype: float64"
      ]
     },
     "execution_count": 24,
     "metadata": {},
     "output_type": "execute_result"
    }
   ],
   "source": [
    "df['Intercept'][0:5]"
   ]
  },
  {
   "cell_type": "code",
   "execution_count": null,
   "metadata": {
    "collapsed": true
   },
   "outputs": [],
   "source": []
  }
 ],
 "metadata": {
  "kernelspec": {
   "display_name": "Python 3",
   "language": "python",
   "name": "python3"
  },
  "language_info": {
   "codemirror_mode": {
    "name": "ipython",
    "version": 3
   },
   "file_extension": ".py",
   "mimetype": "text/x-python",
   "name": "python",
   "nbconvert_exporter": "python",
   "pygments_lexer": "ipython3",
   "version": "3.5.0"
  }
 },
 "nbformat": 4,
 "nbformat_minor": 0
}
